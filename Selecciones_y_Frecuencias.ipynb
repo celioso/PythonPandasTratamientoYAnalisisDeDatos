{
 "cells": [
  {
   "cell_type": "markdown",
   "metadata": {},
   "source": [
    "# Reporte de Análisis IV"
   ]
  },
  {
   "cell_type": "markdown",
   "metadata": {},
   "source": [
    "## Selecciones y Frecuencias"
   ]
  },
  {
   "cell_type": "code",
   "execution_count": 1,
   "metadata": {},
   "outputs": [],
   "source": [
    "import pandas as pd"
   ]
  },
  {
   "cell_type": "code",
   "execution_count": 2,
   "metadata": {},
   "outputs": [
    {
     "data": {
      "text/html": [
       "<div>\n",
       "<style scoped>\n",
       "    .dataframe tbody tr th:only-of-type {\n",
       "        vertical-align: middle;\n",
       "    }\n",
       "\n",
       "    .dataframe tbody tr th {\n",
       "        vertical-align: top;\n",
       "    }\n",
       "\n",
       "    .dataframe thead th {\n",
       "        text-align: right;\n",
       "    }\n",
       "</style>\n",
       "<table border=\"1\" class=\"dataframe\">\n",
       "  <thead>\n",
       "    <tr style=\"text-align: right;\">\n",
       "      <th></th>\n",
       "      <th>Tipo</th>\n",
       "      <th>Distrito</th>\n",
       "      <th>Cuartos</th>\n",
       "      <th>Vacantes</th>\n",
       "      <th>Suites</th>\n",
       "      <th>Area</th>\n",
       "      <th>Valor</th>\n",
       "      <th>Mantenimiento</th>\n",
       "      <th>Impuesto</th>\n",
       "    </tr>\n",
       "  </thead>\n",
       "  <tbody>\n",
       "    <tr>\n",
       "      <th>0</th>\n",
       "      <td>Habitación</td>\n",
       "      <td>San Borja</td>\n",
       "      <td>1</td>\n",
       "      <td>0</td>\n",
       "      <td>0</td>\n",
       "      <td>40</td>\n",
       "      <td>1700.0</td>\n",
       "      <td>500.0</td>\n",
       "      <td>60.0</td>\n",
       "    </tr>\n",
       "    <tr>\n",
       "      <th>1</th>\n",
       "      <td>Casa</td>\n",
       "      <td>Lurigancho</td>\n",
       "      <td>2</td>\n",
       "      <td>0</td>\n",
       "      <td>1</td>\n",
       "      <td>100</td>\n",
       "      <td>7000.0</td>\n",
       "      <td>NaN</td>\n",
       "      <td>NaN</td>\n",
       "    </tr>\n",
       "    <tr>\n",
       "      <th>2</th>\n",
       "      <td>Departamento</td>\n",
       "      <td>Pachacámac</td>\n",
       "      <td>1</td>\n",
       "      <td>0</td>\n",
       "      <td>0</td>\n",
       "      <td>15</td>\n",
       "      <td>800.0</td>\n",
       "      <td>390.0</td>\n",
       "      <td>20.0</td>\n",
       "    </tr>\n",
       "    <tr>\n",
       "      <th>3</th>\n",
       "      <td>Departamento</td>\n",
       "      <td>Ate</td>\n",
       "      <td>1</td>\n",
       "      <td>0</td>\n",
       "      <td>0</td>\n",
       "      <td>48</td>\n",
       "      <td>800.0</td>\n",
       "      <td>230.0</td>\n",
       "      <td>NaN</td>\n",
       "    </tr>\n",
       "    <tr>\n",
       "      <th>4</th>\n",
       "      <td>Departamento</td>\n",
       "      <td>Barranco</td>\n",
       "      <td>3</td>\n",
       "      <td>1</td>\n",
       "      <td>0</td>\n",
       "      <td>70</td>\n",
       "      <td>1200.0</td>\n",
       "      <td>NaN</td>\n",
       "      <td>NaN</td>\n",
       "    </tr>\n",
       "    <tr>\n",
       "      <th>5</th>\n",
       "      <td>Departamento</td>\n",
       "      <td>Comas</td>\n",
       "      <td>2</td>\n",
       "      <td>0</td>\n",
       "      <td>0</td>\n",
       "      <td>50</td>\n",
       "      <td>1300.0</td>\n",
       "      <td>301.0</td>\n",
       "      <td>17.0</td>\n",
       "    </tr>\n",
       "    <tr>\n",
       "      <th>6</th>\n",
       "      <td>Casa en condominio</td>\n",
       "      <td>Ate</td>\n",
       "      <td>5</td>\n",
       "      <td>4</td>\n",
       "      <td>5</td>\n",
       "      <td>750</td>\n",
       "      <td>22000.0</td>\n",
       "      <td>NaN</td>\n",
       "      <td>NaN</td>\n",
       "    </tr>\n",
       "    <tr>\n",
       "      <th>7</th>\n",
       "      <td>Casa en condominio</td>\n",
       "      <td>El Agustino</td>\n",
       "      <td>2</td>\n",
       "      <td>2</td>\n",
       "      <td>0</td>\n",
       "      <td>65</td>\n",
       "      <td>1000.0</td>\n",
       "      <td>NaN</td>\n",
       "      <td>NaN</td>\n",
       "    </tr>\n",
       "    <tr>\n",
       "      <th>8</th>\n",
       "      <td>Departamento</td>\n",
       "      <td>Pachacámac</td>\n",
       "      <td>1</td>\n",
       "      <td>0</td>\n",
       "      <td>0</td>\n",
       "      <td>36</td>\n",
       "      <td>1200.0</td>\n",
       "      <td>NaN</td>\n",
       "      <td>NaN</td>\n",
       "    </tr>\n",
       "    <tr>\n",
       "      <th>9</th>\n",
       "      <td>Departamento</td>\n",
       "      <td>Mi Perú</td>\n",
       "      <td>2</td>\n",
       "      <td>1</td>\n",
       "      <td>0</td>\n",
       "      <td>70</td>\n",
       "      <td>1500.0</td>\n",
       "      <td>642.0</td>\n",
       "      <td>74.0</td>\n",
       "    </tr>\n",
       "  </tbody>\n",
       "</table>\n",
       "</div>"
      ],
      "text/plain": [
       "                 Tipo     Distrito  Cuartos  Vacantes  Suites  Area    Valor  \\\n",
       "0          Habitación    San Borja        1         0       0    40   1700.0   \n",
       "1                Casa   Lurigancho        2         0       1   100   7000.0   \n",
       "2        Departamento   Pachacámac        1         0       0    15    800.0   \n",
       "3        Departamento          Ate        1         0       0    48    800.0   \n",
       "4        Departamento     Barranco        3         1       0    70   1200.0   \n",
       "5        Departamento        Comas        2         0       0    50   1300.0   \n",
       "6  Casa en condominio          Ate        5         4       5   750  22000.0   \n",
       "7  Casa en condominio  El Agustino        2         2       0    65   1000.0   \n",
       "8        Departamento   Pachacámac        1         0       0    36   1200.0   \n",
       "9        Departamento      Mi Perú        2         1       0    70   1500.0   \n",
       "\n",
       "   Mantenimiento  Impuesto  \n",
       "0          500.0      60.0  \n",
       "1            NaN       NaN  \n",
       "2          390.0      20.0  \n",
       "3          230.0       NaN  \n",
       "4            NaN       NaN  \n",
       "5          301.0      17.0  \n",
       "6            NaN       NaN  \n",
       "7            NaN       NaN  \n",
       "8            NaN       NaN  \n",
       "9          642.0      74.0  "
      ]
     },
     "execution_count": 2,
     "metadata": {},
     "output_type": "execute_result"
    }
   ],
   "source": [
    "datos = pd.read_csv(\"Pandas/data/alquiler_residencial.csv\", sep = \";\")\n",
    "datos.head(10)"
   ]
  },
  {
   "cell_type": "code",
   "execution_count": 3,
   "metadata": {},
   "outputs": [],
   "source": [
    "# Seleccione solamente los inmuebles clasificados con tipo \"Departamento\""
   ]
  },
  {
   "cell_type": "code",
   "execution_count": 6,
   "metadata": {},
   "outputs": [
    {
     "data": {
      "text/plain": [
       "19532"
      ]
     },
     "execution_count": 6,
     "metadata": {},
     "output_type": "execute_result"
    }
   ],
   "source": [
    "seleccion = datos[\"Tipo\"] == \"Departamento\"\n",
    "n1 = datos[seleccion].shape[0]\n",
    "n1"
   ]
  },
  {
   "cell_type": "code",
   "execution_count": 5,
   "metadata": {},
   "outputs": [],
   "source": [
    "# Seleccione los inmuebles clasificados con tipo \"Casa\", \"Casa en condominio\" y \"Casa de villa\"."
   ]
  },
  {
   "cell_type": "code",
   "execution_count": 7,
   "metadata": {},
   "outputs": [
    {
     "data": {
      "text/plain": [
       "2212"
      ]
     },
     "execution_count": 7,
     "metadata": {},
     "output_type": "execute_result"
    }
   ],
   "source": [
    "seleccion = (datos[\"Tipo\"] == \"Casa\") | (datos[\"Tipo\"] == \"Casa en condominio\") | (datos[\"Tipo\"] == \"Casa de villa\")\n",
    "n2 = datos[seleccion].shape[0]\n",
    "n2"
   ]
  },
  {
   "cell_type": "code",
   "execution_count": 6,
   "metadata": {},
   "outputs": [],
   "source": [
    "# Seleccione los inmuebles con área entre 60 y 100 metros cuadrados, incluyendo los limites."
   ]
  },
  {
   "cell_type": "code",
   "execution_count": 10,
   "metadata": {},
   "outputs": [
    {
     "data": {
      "text/plain": [
       "8746"
      ]
     },
     "execution_count": 10,
     "metadata": {},
     "output_type": "execute_result"
    }
   ],
   "source": [
    "seleccion = (datos[\"Area\"]>= 60) & (datos[\"Area\"]<= 100)\n",
    "n3 =datos[seleccion].shape[0]\n",
    "n3"
   ]
  },
  {
   "cell_type": "code",
   "execution_count": 8,
   "metadata": {},
   "outputs": [],
   "source": [
    "# Seleccione los inmuebles que tengan por lo menos 4 cuartos y alquiler menor que $2.000,00."
   ]
  },
  {
   "cell_type": "code",
   "execution_count": 11,
   "metadata": {},
   "outputs": [
    {
     "data": {
      "text/plain": [
       "41"
      ]
     },
     "execution_count": 11,
     "metadata": {},
     "output_type": "execute_result"
    }
   ],
   "source": [
    "seleccion = (datos[\"Cuartos\"]>=4) & (datos[\"Valor\"]<2000)\n",
    "n4 =datos[seleccion].shape[0]\n",
    "n4"
   ]
  },
  {
   "cell_type": "code",
   "execution_count": 13,
   "metadata": {},
   "outputs": [
    {
     "name": "stdout",
     "output_type": "stream",
     "text": [
      "N° de inmuebles clasificados con tipo 'Departamento' -> 19532\n",
      "N° de inmuebles clasificados con tipo 'Casa', 'Casa en condominio' y 'Casa de villa' -> 2212\n",
      "N° de inmuebles con área entre 60 y 100 metros cuadrados, incluyendo los limites -> 8746\n",
      "N° de inmuebles que tengan por lo menos 4 cuartos y alquiler menor que $2.000,00 -> 41\n"
     ]
    }
   ],
   "source": [
    "print(\"N° de inmuebles clasificados con tipo 'Departamento' -> {}\".format(n1))\n",
    "print(\"N° de inmuebles clasificados con tipo 'Casa', 'Casa en condominio' y 'Casa de villa' -> {}\".format(n2))\n",
    "print(\"N° de inmuebles con área entre 60 y 100 metros cuadrados, incluyendo los limites -> {}\".format(n3))\n",
    "print(\"N° de inmuebles que tengan por lo menos 4 cuartos y alquiler menor que $2.000,00 -> {}\".format(n4))"
   ]
  }
 ],
 "metadata": {
  "kernelspec": {
   "display_name": "Python 3",
   "language": "python",
   "name": "python3"
  },
  "language_info": {
   "codemirror_mode": {
    "name": "ipython",
    "version": 3
   },
   "file_extension": ".py",
   "mimetype": "text/x-python",
   "name": "python",
   "nbconvert_exporter": "python",
   "pygments_lexer": "ipython3",
   "version": "3.11.0rc1"
  }
 },
 "nbformat": 4,
 "nbformat_minor": 2
}
